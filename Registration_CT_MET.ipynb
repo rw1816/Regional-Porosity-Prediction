{
 "cells": [
  {
   "cell_type": "code",
   "execution_count": 1,
   "id": "finite-butter",
   "metadata": {},
   "outputs": [],
   "source": [
    "import h5py\n",
    "import os\n",
    "import numpy as np\n",
    "import k3d"
   ]
  },
  {
   "cell_type": "code",
   "execution_count": 2,
   "id": "civic-arbitration",
   "metadata": {},
   "outputs": [],
   "source": [
    "#CT_raw=['Chamf_1mm.h5', 'Cube3_1mm.h5','Cube8_1mm.h5', 'Hori_Bar_1mm.h5']\n",
    "CT_raw=['Chamf_2mm.h5']\n",
    "#\n",
    "metric_file=os.path.normpath(\"METRICS_ONLY_2mm.h5\")"
   ]
  },
  {
   "cell_type": "code",
   "execution_count": 3,
   "id": "continent-tobacco",
   "metadata": {},
   "outputs": [
    {
     "name": "stdout",
     "output_type": "stream",
     "text": [
      "(20, 7, 6)\n",
      "(20, 7, 6)\n",
      "(20, 27, 27)\n"
     ]
    }
   ],
   "source": [
    "CT_file=os.path.normpath(CT_raw[0])\n",
    "with h5py.File(CT_file, 'r') as f:\n",
    "    porosity=np.array(f.get('pores'), dtype='float64')\n",
    "    mask=np.array(f.get('mask'), dtype='uint8')\n",
    "    print(porosity.shape)\n",
    "    print(mask.shape)\n",
    "    \n",
    "with h5py.File(metric_file, 'r') as f:\n",
    "    keys=f.keys()\n",
    "    #print(keys)\n",
    "    print(f['mse-Spot area (um2)'].shape)\n",
    "    test_met=np.array(f.get('mse-Spot area (um2)'), dtype='float64')"
   ]
  },
  {
   "cell_type": "markdown",
   "id": "running-subdivision",
   "metadata": {},
   "source": [
    "### Always flip axis 1 because k3d plots axis 1 inverse to matplotlib"
   ]
  },
  {
   "cell_type": "code",
   "execution_count": 30,
   "id": "unavailable-enzyme",
   "metadata": {},
   "outputs": [],
   "source": [
    "def CT_registration(vol):\n",
    "    mask2=vol[:,1:-1,:]\n",
    "    mask2=np.flip(mask2, axis=1)\n",
    "    mask2=np.flip(mask2, axis=0)\n",
    "    \n",
    "    return mask2"
   ]
  },
  {
   "cell_type": "code",
   "execution_count": 31,
   "id": "resistant-backup",
   "metadata": {},
   "outputs": [],
   "source": [
    "def MET_registration(vol):\n",
    "    met2=vol[:,7:12,6:12]\n",
    "    met2=np.flip(met2, axis=1)\n",
    "    \n",
    "    return met2"
   ]
  },
  {
   "cell_type": "code",
   "execution_count": 32,
   "id": "small-midwest",
   "metadata": {},
   "outputs": [
    {
     "data": {
      "application/vnd.jupyter.widget-view+json": {
       "model_id": "5ff36f12bc0544319f0b66b534213db8",
       "version_major": 2,
       "version_minor": 0
      },
      "text/plain": [
       "Output()"
      ]
     },
     "metadata": {},
     "output_type": "display_data"
    }
   ],
   "source": [
    "## Figure out where to crop the metric data and check the alignment/ consistency of the data\n",
    "#met2=np.flip(test_met, axis=1)\n",
    "met2=MET_registration(test_met)\n",
    "\n",
    "mask2=CT_registration(mask)\n",
    "\n",
    "    \n",
    "plot = k3d.plot()\n",
    "obj = k3d.factory.volume(mask2, scaling=[mask2.shape[2], mask2.shape[1], mask2.shape[0]], interpolation=False, alpha_coef=10,\n",
    "                        color_map=[(1.0, 1.0, 0.0, 0.0)])\n",
    "obj2=k3d.factory.volume(met2, scaling=[met2.shape[2], met2.shape[1], met2.shape[0]], interpolation=False, color_range=[0,1],alpha_coef=20,\n",
    "                       color_map=[(1.0, 0.0, 0.0, 1.0)])\n",
    "plot += obj\n",
    "plot += obj2\n",
    "plot.display()"
   ]
  },
  {
   "cell_type": "code",
   "execution_count": 417,
   "id": "developing-differential",
   "metadata": {},
   "outputs": [
    {
     "name": "stdout",
     "output_type": "stream",
     "text": [
      "(40, 54, 54)\n"
     ]
    }
   ],
   "source": [
    "with h5py.File(metric_file, 'r') as f:\n",
    "    plume=np.array(f.get('mean-Plume area (um2)'), dtype='float64')\n",
    "    \n",
    "print(plume.shape)"
   ]
  },
  {
   "cell_type": "code",
   "execution_count": 23,
   "id": "widespread-singles",
   "metadata": {},
   "outputs": [
    {
     "data": {
      "application/vnd.jupyter.widget-view+json": {
       "model_id": "03d78b020f1a488790e5d1b4103d8d39",
       "version_major": 2,
       "version_minor": 0
      },
      "text/plain": [
       "Canvas(toolbar=Toolbar(toolitems=[('Home', 'Reset original view', 'home', 'home'), ('Back', 'Back to previous …"
      ]
     },
     "metadata": {},
     "output_type": "display_data"
    },
    {
     "data": {
      "text/plain": [
       "<matplotlib.image.AxesImage at 0x1a3a28e2148>"
      ]
     },
     "execution_count": 23,
     "metadata": {},
     "output_type": "execute_result"
    }
   ],
   "source": [
    "import matplotlib.pyplot as plt\n",
    "%matplotlib widget\n",
    "plt.imshow(met2[18])\n"
   ]
  },
  {
   "cell_type": "code",
   "execution_count": 22,
   "id": "going-conversation",
   "metadata": {},
   "outputs": [
    {
     "data": {
      "text/plain": [
       "<matplotlib.image.AxesImage at 0x1a3a28a1648>"
      ]
     },
     "execution_count": 22,
     "metadata": {},
     "output_type": "execute_result"
    },
    {
     "data": {
      "image/png": "[encoded data removed]",
      "text/plain": [
       "<Figure size 432x288 with 1 Axes>"
      ]
     },
     "metadata": {
      "needs_background": "light"
     },
     "output_type": "display_data"
    }
   ],
   "source": [
    "%matplotlib inline\n",
    "plt.imshow(mask2[18])"
   ]
  },
  {
   "cell_type": "code",
   "execution_count": 25,
   "id": "stopped-projector",
   "metadata": {},
   "outputs": [
    {
     "name": "stdout",
     "output_type": "stream",
     "text": [
      "(20, 5, 6) (20, 5, 6)\n"
     ]
    }
   ],
   "source": [
    "print(mask2.shape, met2.shape)\n",
    "# checking array shapes are the same"
   ]
  },
  {
   "cell_type": "code",
   "execution_count": 26,
   "id": "valuable-content",
   "metadata": {},
   "outputs": [],
   "source": [
    "MA=mask2.flatten()\n",
    "ME=met2.flatten()"
   ]
  },
  {
   "cell_type": "code",
   "execution_count": 29,
   "id": "criminal-haven",
   "metadata": {},
   "outputs": [
    {
     "name": "stdout",
     "output_type": "stream",
     "text": [
      "both = 361\n",
      "neither = 143\n",
      "mask only = 23\n",
      "metric only =73\n",
      "Alignment accuracy = 84.0 %\n"
     ]
    }
   ],
   "source": [
    "both=0\n",
    "neither=0\n",
    "mask_only=0\n",
    "metric_only=0\n",
    "for i, ma in enumerate(MA):\n",
    "    if ma==1 and ME[i]>0:\n",
    "        both=both+1\n",
    "    elif ma==1 and ME[i]==0.0:\n",
    "        mask_only=mask_only+1\n",
    "    elif ME[i]>0 and ma==0:\n",
    "        metric_only = metric_only+1\n",
    "    elif ma==0 and ME[i]==0.0:\n",
    "        neither=neither+1\n",
    "    else:\n",
    "        print(\"unexpected condition!\")\n",
    "        \n",
    "print(\"both = \" + str(both))\n",
    "print(\"neither = \" + str(neither))\n",
    "print(\"mask only = \" + str(mask_only))\n",
    "print(\"metric only =\" +str(metric_only))\n",
    "\n",
    "print(\"Alignment accuracy = {0} %\".format(((both+neither)/(both+neither+mask_only+metric_only))*100))"
   ]
  },
  {
   "cell_type": "code",
   "execution_count": 33,
   "id": "swiss-layer",
   "metadata": {},
   "outputs": [
    {
     "name": "stdout",
     "output_type": "stream",
     "text": [
      "(20, 5, 6) (20, 5, 6)\n",
      "(20, 5, 6)\n"
     ]
    }
   ],
   "source": [
    "#pull out and write the registered datasets\n",
    "mask_reg=CT_registration(mask)\n",
    "porosity_reg=CT_registration(porosity)\n",
    "\n",
    "print(mask_reg.shape, porosity_reg.shape)\n",
    "\n",
    "with h5py.File(\"Chamfer_registered_demo_2mm.h5\", 'w') as f:\n",
    "    f.create_dataset(\"mask\", shape=mask_reg.shape, data=mask_reg, dtype='uint8')\n",
    "    f.create_dataset(\"pores\", shape=porosity_reg.shape, data=porosity_reg, dtype='float64')\n",
    "    with h5py.File(metric_file, 'r') as h:\n",
    "        for key in h.keys():\n",
    "            met=np.array(h[key], dtype='float64')\n",
    "            met_reg=MET_registration(met)\n",
    "            \n",
    "            f.create_dataset(key, shape=met_reg.shape, data=met_reg, dtype='float64')\n",
    "\n",
    "print(met_reg.shape)"
   ]
  },
  {
   "cell_type": "code",
   "execution_count": 477,
   "id": "apparent-hello",
   "metadata": {},
   "outputs": [],
   "source": [
    "# look at correlation\n",
    "binned_reg={}\n",
    "\n",
    "with h5py.File(\"registered_data.h5\", 'r') as f:\n",
    "    for key in f.keys():\n",
    "        binned_reg[key]=np.array(f[key], dtype='float64')"
   ]
  },
  {
   "cell_type": "code",
   "execution_count": 478,
   "id": "mobile-decrease",
   "metadata": {},
   "outputs": [
    {
     "name": "stdout",
     "output_type": "stream",
     "text": [
      "Warning: Cannot change to a different GUI toolkit: notebook. Using widget instead.\n"
     ]
    },
    {
     "data": {
      "application/vnd.jupyter.widget-view+json": {
       "model_id": "f9e4718c3f1347d1b7453fbc91030a62",
       "version_major": 2,
       "version_minor": 0
      },
      "text/plain": [
       "Canvas(toolbar=Toolbar(toolitems=[('Home', 'Reset original view', 'home', 'home'), ('Back', 'Back to previous …"
      ]
     },
     "metadata": {},
     "output_type": "display_data"
    },
    {
     "data": {
      "application/vnd.jupyter.widget-view+json": {
       "model_id": "5479df579e1c42c1ae9224a294681073",
       "version_major": 2,
       "version_minor": 0
      },
      "text/plain": [
       "interactive(children=(Dropdown(description='attr', options=('mask', 'max-Plume area (um2)', 'max-Plume major a…"
      ]
     },
     "metadata": {},
     "output_type": "display_data"
    }
   ],
   "source": [
    "%matplotlib notebook\n",
    "import ipywidgets as widgets\n",
    "from ipywidgets import interact\n",
    "def update_plot(binned_reg, attr, ax):\n",
    "    sc.set_offsets(np.c_[binned_reg['pores'].flatten(), binned_reg[attr].flatten()])\n",
    "    ax.set_ylim([0, max(binned_reg[attr].flatten())+10])\n",
    "    \n",
    "x=binned_reg['pores'].flatten()   \n",
    "y=binned_reg['mse-Spatter number'].flatten()\n",
    "fig, ax = plt.subplots()\n",
    "sc = ax.scatter(x,y, 0.5)\n",
    "ax.set_xscale('log')\n",
    "ax.set_xlim([0.0003, 3])\n",
    "\n",
    "@interact(attr = widgets.Dropdown(options=binned_reg.keys()))\n",
    "def _(attr):\n",
    "    update_plot(binned_reg, attr, ax)"
   ]
  },
  {
   "cell_type": "code",
   "execution_count": null,
   "id": "complex-hypothesis",
   "metadata": {},
   "outputs": [],
   "source": []
  }
 ],
 "metadata": {
  "kernelspec": {
   "display_name": "Python 3",
   "language": "python",
   "name": "python3"
  },
  "language_info": {
   "codemirror_mode": {
    "name": "ipython",
    "version": 3
   },
   "file_extension": ".py",
   "mimetype": "text/x-python",
   "name": "python",
   "nbconvert_exporter": "python",
   "pygments_lexer": "ipython3",
   "version": "3.7.9"
  }
 },
 "nbformat": 4,
 "nbformat_minor": 5
}
